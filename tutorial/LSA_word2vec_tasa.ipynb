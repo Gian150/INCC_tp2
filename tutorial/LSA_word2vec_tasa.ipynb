{
 "cells": [
  {
   "cell_type": "code",
   "execution_count": 2,
   "metadata": {
    "collapsed": false
   },
   "outputs": [],
   "source": [
    "%matplotlib inline \n",
    "\n",
    "\n",
    "from collections import defaultdict\n",
    "import re\n",
    "import matplotlib.pyplot as plt\n",
    "import numpy as np\n",
    "import pandas as pd # el pandas lo usamos para ordenar las palabras mas cercanas, cuando usamos la metrica del LSA\n",
    "from gensim import corpora, models, similarities, matutils\n",
    "from gensim.models.word2vec import Word2Vec \n",
    "from gensim.matutils import cossim\n",
    "from nltk.corpus import stopwords\n",
    "import pickle\n"
   ]
  },
  {
   "cell_type": "markdown",
   "metadata": {},
   "source": [
    "# Cleaning"
   ]
  },
  {
   "cell_type": "code",
   "execution_count": 4,
   "metadata": {
    "collapsed": false
   },
   "outputs": [
    {
     "data": {
      "text/plain": [
       "\"[Baine53.05.01] [P#=1] [DRP=53.614433] [Science=Yes]  \\n[S] who needs to know about weather? \\n[S] what factors affect the weather?  \\n[S] how would you describe the weather in the picture? \\n[S] how did you  decide what to wear to school today? \\n[S] what will you do after school  today? \\n[S] often what you wear and what you do depend on the weather.  \\n[S] a sudden change in weather may change your plans. \\n[S] everyone is  affected by the weather. \\n[S] weather is important to everyone. \\n[S] weather  is the condition of the air around us. \\n[S] the air is always changing.  \\n[S] it becomes warmer or colder. \\n[S] the wind changes speed and direction.  \\n[S] air can be moist or dry. \\n[S] all of these factors are part of weather.  \\n[S] learning about air will help you understand the weather. \\n[S] a blanket  of air called the atmosphere surrounds the earth. \\n[S] the atmosphere is  a mixture of gases in several layers. \\n[S] it extends from the earth's  surface to about 800 km above the earth. \\n[S] you have to run around a  football field about 3000 times to go that far! \\n[S] the layer of the  atmosphere closest to the earth's surface is called the \\ntroposphere.  \\n[S] the troposphere contains water and mostly the gases nitrogen and  oxygen. \\n[S] most weather occurs in the troposphere. \\n[S] troposphere  conditions change quickly. \\n[S] the other layers of the atmosphere change  very little. \\n[S] because people live in the troposphere, it is  important to understand how \\nthe air changes here. \\n[S] study the  diagram of the earth's atmosphere on page 85. \\n[S] look carefully at  the troposphere. \\n[S] what is the temperature at the surface of the  earth? \\n[S] find the temperature of the air at 3 km, 5 km, and  10 km above the earth's \\nsurface. \""
      ]
     },
     "execution_count": 4,
     "metadata": {},
     "output_type": "execute_result"
    }
   ],
   "source": [
    "corpus_file = open(\"tasa\", \"r\").read() # leemos tasa\n",
    "documents = corpus_file.split(\"\\n\\n\") # construimos una lista de documentos\n",
    "documents[1234] # vemos como ejemplo el documento nº 1234"
   ]
  },
  {
   "cell_type": "code",
   "execution_count": 10,
   "metadata": {
    "collapsed": false
   },
   "outputs": [
    {
     "data": {
      "text/plain": [
       "\"  who needs to know about weather?   what factors affect the weather?    how would you describe the weather in the picture?   how did you  decide what to wear to school today?   what will you do after school  today?   often what you wear and what you do depend on the weather.    a sudden change in weather may change your plans.   everyone is  affected by the weather.   weather is important to everyone.   weather  is the condition of the air around us.   the air is always changing.    it becomes warmer or colder.   the wind changes speed and direction.    air can be moist or dry.   all of these factors are part of weather.    learning about air will help you understand the weather.   a blanket  of air called the atmosphere surrounds the earth.   the atmosphere is  a mixture of gases in several layers.   it extends from the earth's  surface to about num km above the earth.   you have to run around a  football field about num times to go that far!   the layer of the  atmosphere closest to the earth's surface is called the  troposphere.    the troposphere contains water and mostly the gases nitrogen and  oxygen.   most weather occurs in the troposphere.   troposphere  conditions change quickly.   the other layers of the atmosphere change  very little.   because people live in the troposphere, it is  important to understand how  the air changes here.   study the  diagram of the earth's atmosphere on page num   look carefully at  the troposphere.   what is the temperature at the surface of the  earth?   find the temperature of the air at num km, num km, and  num km above the earth's  surface. \""
      ]
     },
     "execution_count": 10,
     "metadata": {},
     "output_type": "execute_result"
    }
   ],
   "source": [
    "# Ejemplo de limpieza de un documento\n",
    "reg_cor = re.compile(\"\\[.*\\]\") #busca cosas entre corchetes\n",
    "reg_num = re.compile(r\"\\s\\d+[.,]?\\d*\\s\") #busca numeros con o sin puntos o comas\n",
    "document = documents[1234]\n",
    "# replace reemplaza elementos del string por otros\n",
    "# sub() hace lo mismo pero permite trabajar con expresiones regulares\n",
    "reg_num.sub(\" num \",reg_cor.sub(\"\",document[document.find(\"\\n[S]\"):]).replace(\"\\n\", \" \"))  "
   ]
  },
  {
   "cell_type": "code",
   "execution_count": 13,
   "metadata": {
    "collapsed": false
   },
   "outputs": [],
   "source": [
    "# limpieza de todos los documentos del corpus\n",
    "documents_clean = [reg_num.sub(\" num \",reg_cor.sub(\"\",document[document.find(\"\\n[S]\"):]).replace(\"\\n\", \" \")) for document in documents] \n",
    " "
   ]
  },
  {
   "cell_type": "markdown",
   "metadata": {},
   "source": [
    "## tokenizando, filtrando por stoplist y por no-palabras"
   ]
  },
  {
   "cell_type": "code",
   "execution_count": 39,
   "metadata": {
    "collapsed": false
   },
   "outputs": [],
   "source": [
    "stoplist = stopwords.words('english')\n",
    "texts=[[word for word in re.split(r'\\W+', document.lower()) if word not in stoplist and word.isalpha()] for document in documents_clean]"
   ]
  },
  {
   "cell_type": "code",
   "execution_count": 40,
   "metadata": {
    "collapsed": false
   },
   "outputs": [
    {
     "data": {
      "text/plain": [
       "['needs',\n",
       " 'know',\n",
       " 'weather',\n",
       " 'factors',\n",
       " 'affect',\n",
       " 'weather',\n",
       " 'would',\n",
       " 'describe',\n",
       " 'weather',\n",
       " 'picture']"
      ]
     },
     "execution_count": 40,
     "metadata": {},
     "output_type": "execute_result"
    }
   ],
   "source": [
    "# Vemos los primeros tokens del documento 1234 \n",
    "texts[1234][:10]"
   ]
  },
  {
   "cell_type": "code",
   "execution_count": 17,
   "metadata": {
    "collapsed": false
   },
   "outputs": [],
   "source": [
    "#Creates a frequency dictionary\n",
    "frequency = defaultdict(int)\n",
    "for text in texts:\n",
    "    for token in text:\n",
    "        frequency[token] += 1\n",
    "        \n"
   ]
  },
  {
   "cell_type": "code",
   "execution_count": 18,
   "metadata": {
    "collapsed": false
   },
   "outputs": [
    {
     "data": {
      "text/plain": [
       "1"
      ]
     },
     "execution_count": 18,
     "metadata": {},
     "output_type": "execute_result"
    }
   ],
   "source": [
    "frequency[\"zombies\"] # el token \"zombies\" aparece una sola vez en todo el corpus"
   ]
  },
  {
   "cell_type": "code",
   "execution_count": 43,
   "metadata": {
    "collapsed": true
   },
   "outputs": [],
   "source": [
    "# Creacion de un diccionario que mapea tokens con Ids\n",
    "dictionary = corpora.Dictionary(texts)"
   ]
  },
  {
   "cell_type": "code",
   "execution_count": 63,
   "metadata": {
    "collapsed": false
   },
   "outputs": [
    {
     "name": "stdout",
     "output_type": "stream",
     "text": [
      "66044\n",
      "zombies\n"
     ]
    }
   ],
   "source": [
    "id_zombies = dictionary.token2id[\"zombies\"] # token -> id\n",
    "print id_zombies\n",
    "print dictionary.id2token[id_zombies] # id -> token\n"
   ]
  },
  {
   "cell_type": "code",
   "execution_count": 64,
   "metadata": {
    "collapsed": false
   },
   "outputs": [],
   "source": [
    "# Filtro palabras poco frecuentes (menores a 5) \n",
    "dictionary.filter_extremes(no_below=5, no_above=1, keep_n=100000)"
   ]
  },
  {
   "cell_type": "code",
   "execution_count": 65,
   "metadata": {
    "collapsed": false
   },
   "outputs": [
    {
     "ename": "KeyError",
     "evalue": "'zombies'",
     "output_type": "error",
     "traceback": [
      "\u001b[1;31m---------------------------------------------------------------------------\u001b[0m",
      "\u001b[1;31mKeyError\u001b[0m                                  Traceback (most recent call last)",
      "\u001b[1;32m<ipython-input-65-9ff4c45a737c>\u001b[0m in \u001b[0;36m<module>\u001b[1;34m()\u001b[0m\n\u001b[1;32m----> 1\u001b[1;33m \u001b[0mdictionary\u001b[0m\u001b[1;33m.\u001b[0m\u001b[0mtoken2id\u001b[0m\u001b[1;33m[\u001b[0m\u001b[1;34m\"zombies\"\u001b[0m\u001b[1;33m]\u001b[0m \u001b[1;31m# \"zombies\" fue filtrada\u001b[0m\u001b[1;33m\u001b[0m\u001b[0m\n\u001b[0m",
      "\u001b[1;31mKeyError\u001b[0m: 'zombies'"
     ]
    }
   ],
   "source": [
    "dictionary.token2id[\"zombies\"] # \"zombies\" fue filtrada"
   ]
  },
  {
   "cell_type": "code",
   "execution_count": 23,
   "metadata": {
    "collapsed": false
   },
   "outputs": [],
   "source": [
    "#save frequency\n",
    "pickle.dump( frequency, open( \"tasa_freq.p\", \"wb\" ) )\n",
    "# saving dictionary\"\n",
    "dictionary.save(\"tasa_dictionary.dict\")\n",
    "#Para cargar\n",
    "#frequency = pickle.load( open( \"tasa_freq.p\", \"rb\" ) )\n",
    "#dictionary = dictionary=corpora.Dictionary.load(\"tasa_dictionary.dict\")"
   ]
  },
  {
   "cell_type": "markdown",
   "metadata": {},
   "source": [
    "# Entrenamiento: transformacion tfidf + LSA"
   ]
  },
  {
   "cell_type": "code",
   "execution_count": 24,
   "metadata": {
    "collapsed": false
   },
   "outputs": [
    {
     "name": "stdout",
     "output_type": "stream",
     "text": [
      "Applying tfidf transformation\n",
      "Applying LSA\n"
     ]
    }
   ],
   "source": [
    "n_topics = 300\n",
    "corpus = [dictionary.doc2bow(text) for text in texts]\n",
    "print \"Applying tfidf transformation\"\n",
    "tfidf = models.TfidfModel(corpus)  # tf-idf  transformation\n",
    "corpus_tfidf = tfidf[corpus]\n",
    "print \"Applying LSA\"\n",
    "lsa_tfidf = models.LsiModel(corpus_tfidf, id2word=dictionary, num_topics = n_topics)  # initialize an LSI transformation\n",
    "lsa_tfidf.save(\"LSA_tasa_\"+str(n_topics)+\".lsi\") # Save LSA"
   ]
  },
  {
   "cell_type": "code",
   "execution_count": 66,
   "metadata": {
    "collapsed": false
   },
   "outputs": [],
   "source": [
    "# Load LSA\n",
    "lsa_tfidf = models.LsiModel.load(\"LSA_tasa_\"+str(n_topics)+\".lsi\")"
   ]
  },
  {
   "cell_type": "code",
   "execution_count": 67,
   "metadata": {
    "collapsed": false
   },
   "outputs": [
    {
     "data": {
      "text/plain": [
       "[(513, 1),\n",
       " (1213, 1),\n",
       " (1496, 2),\n",
       " (2572, 2),\n",
       " (3082, 1),\n",
       " (3704, 1),\n",
       " (3865, 4),\n",
       " (5188, 1),\n",
       " (6145, 2),\n",
       " (6203, 1)]"
      ]
     },
     "execution_count": 67,
     "metadata": {},
     "output_type": "execute_result"
    }
   ],
   "source": [
    "corpus[1234][:10] # (id,frequencia) de los tokens en el documento 1234 "
   ]
  },
  {
   "cell_type": "code",
   "execution_count": 70,
   "metadata": {
    "collapsed": false
   },
   "outputs": [
    {
     "data": {
      "text/plain": [
       "[(513, 0.013155850506911709),\n",
       " (1213, 0.047926917678004555),\n",
       " (1496, 0.10357389892124762),\n",
       " (2572, 0.11018176577246111),\n",
       " (3082, 0.043661980153541946),\n",
       " (3704, 0.028441086585538965),\n",
       " (3865, 0.14754688679399788),\n",
       " (5188, 0.0367537968950575),\n",
       " (6145, 0.05498312420098861),\n",
       " (6203, 0.012234737431299821)]"
      ]
     },
     "execution_count": 70,
     "metadata": {},
     "output_type": "execute_result"
    }
   ],
   "source": [
    "corpus_tfidf[1234][:10] # (id,tf-idf weight) de los tokens en el documento 1234 "
   ]
  },
  {
   "cell_type": "markdown",
   "metadata": {},
   "source": [
    "## LSA: Topicos, vectores y distancias"
   ]
  },
  {
   "cell_type": "code",
   "execution_count": 72,
   "metadata": {
    "collapsed": false
   },
   "outputs": [
    {
     "data": {
      "text/plain": [
       "[(0, 0.093806840156267529),\n",
       " (1, -0.048203257508117936),\n",
       " (2, 0.28869196809060899),\n",
       " (3, 0.16000505485482797),\n",
       " (4, 0.01021623177141742),\n",
       " (5, 0.036050941066397217),\n",
       " (6, 0.19593403031046958),\n",
       " (7, 0.20307969360184847),\n",
       " (8, -0.13323776298922782),\n",
       " (9, -0.22979490953374049)]"
      ]
     },
     "execution_count": 72,
     "metadata": {},
     "output_type": "execute_result"
    }
   ],
   "source": [
    "# representacion vectorial de una palabra\n",
    "vect_water = lsa_tfidf[dictionary.doc2bow([\"water\"])] \n",
    "vect_water[:10] # imprimo solo los primeros 10 elementos "
   ]
  },
  {
   "cell_type": "code",
   "execution_count": 74,
   "metadata": {
    "collapsed": false
   },
   "outputs": [
    {
     "data": {
      "text/plain": [
       "[(u'water', 0.28869196809060815),\n",
       " (u'energy', 0.26758869603541374),\n",
       " (u'plants', 0.18698501114017993),\n",
       " (u'earth', 0.17128986989240713),\n",
       " (u'cells', 0.14610672016309159),\n",
       " (u'air', 0.1359253714849466),\n",
       " (u'government', -0.13561488883897888),\n",
       " (u'food', 0.13354582016784636),\n",
       " (u'states', -0.12201515111235277),\n",
       " (u'body', 0.12032965286126809)]"
      ]
     },
     "execution_count": 74,
     "metadata": {},
     "output_type": "execute_result"
    }
   ],
   "source": [
    "# para ver los componentes del topico numero 2 \n",
    "lsa_tfidf.show_topic(2, topn=10)"
   ]
  },
  {
   "cell_type": "code",
   "execution_count": 76,
   "metadata": {
    "collapsed": false
   },
   "outputs": [
    {
     "data": {
      "text/plain": [
       "[(0, 0.29779398075848468),\n",
       " (1, -0.29283351205740044),\n",
       " (2, 1.0606622653217035),\n",
       " (3, 0.28470641884912784),\n",
       " (4, -0.10906691451763034),\n",
       " (5, 0.34011251134883325),\n",
       " (6, 0.034269223142230909),\n",
       " (7, -0.13774504482747904),\n",
       " (8, -0.38775202221737293),\n",
       " (9, -0.042189969539985189)]"
      ]
     },
     "execution_count": 76,
     "metadata": {},
     "output_type": "execute_result"
    }
   ],
   "source": [
    "# representacion vectorial de un conjunto de palabras\n",
    "vect_text = lsa_tfidf[dictionary.doc2bow([\"water\",\"energy\",\"plants\",\"earth\",\"cells\"])] \n",
    "vect_text[:10] # imprimo solo los primeros 10 elementos. Se ve que el topico 2 se enriquecio"
   ]
  },
  {
   "cell_type": "code",
   "execution_count": 77,
   "metadata": {
    "collapsed": false
   },
   "outputs": [
    {
     "data": {
      "text/plain": [
       "0.012078858354125867"
      ]
     },
     "execution_count": 77,
     "metadata": {},
     "output_type": "execute_result"
    }
   ],
   "source": [
    "# distancia coseno entre 2 palabras\n",
    "vect_good = lsa_tfidf[dictionary.doc2bow([\"good\"])]\n",
    "vect_bad = lsa_tfidf[dictionary.doc2bow([\"bad\"])]\n",
    "matutils.cossim(vect_good,vect_bad)\n"
   ]
  },
  {
   "cell_type": "code",
   "execution_count": 78,
   "metadata": {
    "collapsed": false
   },
   "outputs": [
    {
     "name": "stdout",
     "output_type": "stream",
     "text": [
      "en mi diccionario hay  33570 palabras\n"
     ]
    }
   ],
   "source": [
    "# calculo las n palabras mas cercanas al \"target_word\" segun LSA en tasa\n",
    "n=20\n",
    "target_word = \"argentina\"\n",
    "\n",
    "target_word_vect = lsa_tfidf[dictionary.doc2bow([target_word])]\n",
    "words_in_dict = dictionary.values()\n",
    "print \"en mi diccionario hay \",len(words_in_dict),\"palabras\"\n",
    "# calculo la similitud coseno entre cada palabra del diccionario y el target_word \n",
    "cos_sim = [matutils.cossim(target_word_vect, lsa_tfidf[dictionary.doc2bow([word])]) for word in words_in_dict] \n",
    "# Armo un dataframe de pandas con los valores calculados \n",
    "df = pd.DataFrame(cos_sim, index=words_in_dict, columns=[\"similarity\"])\n",
    "# Ordeno el Dataframe segun similitud\n",
    "df_order = df.sort_values([\"similarity\"],ascending=False).ix[:n,:]"
   ]
  },
  {
   "cell_type": "code",
   "execution_count": 31,
   "metadata": {
    "collapsed": false
   },
   "outputs": [
    {
     "data": {
      "image/png": "[encoded data removed]",
      "text/plain": [
       "<matplotlib.figure.Figure at 0x7f28af788790>"
      ]
     },
     "metadata": {},
     "output_type": "display_data"
    }
   ],
   "source": [
    "# Grafico\n",
    "plt.rcParams.update({'font.size': 20, 'legend.fontsize': 20})\n",
    "df_order.plot(kind='bar',figsize=(20,7))\n",
    "plt.ylabel(\"LSA similarity\")\n",
    "plt.title(str(n) + \" words clossest to '\"+target_word+\"' in tasa\")\n",
    "plt.show()"
   ]
  },
  {
   "cell_type": "markdown",
   "metadata": {},
   "source": [
    "# Word2vec"
   ]
  },
  {
   "cell_type": "markdown",
   "metadata": {},
   "source": [
    "### El corpus se subdivide por oraciones"
   ]
  },
  {
   "cell_type": "code",
   "execution_count": 80,
   "metadata": {
    "collapsed": false
   },
   "outputs": [],
   "source": [
    "corpus_file = open(\"tasa\", \"r\").read()\n",
    "documents2 = corpus_file.split(\"[S]\")\n",
    "parentesis = re.compile(\"[\\[].*[\\]]\")\n",
    "regexp_num = re.compile(r\"\\s\\d+[.,]?\\d*\\s\")\n",
    "stoplist = stopwords.words('english')\n",
    "texts2 = [[word for word in re.split(r'\\W+'\n",
    "                                    ,regexp_num.sub(\" num \", parentesis.sub(\"\", document).lower())) if word not in stoplist and word.isalpha()] for document in documents2]\n"
   ]
  },
  {
   "cell_type": "code",
   "execution_count": 81,
   "metadata": {
    "collapsed": false
   },
   "outputs": [],
   "source": [
    "# filtro oraciones con muy pocas palabras\n",
    "texts2 = [text for text in texts2 if len(text)>=2] "
   ]
  },
  {
   "cell_type": "code",
   "execution_count": 82,
   "metadata": {
    "collapsed": false
   },
   "outputs": [
    {
     "data": {
      "text/plain": [
       "[['first', 'americans'],\n",
       " ['many',\n",
       "  'many',\n",
       "  'years',\n",
       "  'ago',\n",
       "  'perhaps',\n",
       "  'num',\n",
       "  'years',\n",
       "  'ago',\n",
       "  'life',\n",
       "  'different',\n",
       "  'today'],\n",
       " ['time', 'earth', 'grip', 'last', 'ice', 'age']]"
      ]
     },
     "execution_count": 82,
     "metadata": {},
     "output_type": "execute_result"
    }
   ],
   "source": [
    "texts2[:3] # primeras 3 oraciones del corpus"
   ]
  },
  {
   "cell_type": "code",
   "execution_count": 41,
   "metadata": {
    "collapsed": false
   },
   "outputs": [],
   "source": [
    "# \"window\" es el tamaño de la ventana a utilizar. window=10 usa 10 palabras a la iquierda y diez a la derecha\n",
    "# \"n_dim\" es la dimension del espacio vectorial \n",
    "# \"workers\" es el numero de nucleos a utilizar. Para esta implementacion en paralelo hace falta tener instalado Cython) \n",
    "# word2vec filtra las palabras que aparezcan una fraccion de veces (respecto el total del corpus) mayor a \"sample\"\n",
    "# word2vec filtra las palabras con frequencia menor a \"min_count\" \n",
    "# Corro el modelo Skipgram (sg=1), para correr el CBOW (sg=0)\n",
    "# para mas detalle: https://radimrehurek.com/gensim/models/word2vec.html\n",
    "n_dim =20\n",
    "w2v_model = Word2Vec(texts2, workers=4,size=n_dim, min_count = 10, window = 10, sample = 1e-3,negative=10,sg=1)\n",
    "w2v_model.save(\"word2vec_tasa\")  # save model\n",
    "#w2v_model = Word2Vec.load(\"word2vec_tasa\")  # load model"
   ]
  },
  {
   "cell_type": "code",
   "execution_count": 45,
   "metadata": {
    "collapsed": false,
    "scrolled": true
   },
   "outputs": [
    {
     "data": {
      "text/plain": [
       "array([[ 0.37684363, -0.48677438,  0.33767587, -0.51624858, -0.09266331,\n",
       "        -0.67752743, -0.08641163, -0.75592393, -0.15001123,  0.12136961,\n",
       "         1.23386681,  0.56546479,  0.0498248 , -0.31030723, -0.32469267,\n",
       "         0.12028261]], dtype=float32)"
      ]
     },
     "execution_count": 45,
     "metadata": {},
     "output_type": "execute_result"
    }
   ],
   "source": [
    "# El output del word2vec son numpy arrays \n",
    "w2v_model[[\"good\"]]"
   ]
  },
  {
   "cell_type": "code",
   "execution_count": 46,
   "metadata": {
    "collapsed": false
   },
   "outputs": [
    {
     "data": {
      "text/plain": [
       "[('chile', 0.9720770120620728),\n",
       " ('brazil', 0.9637871384620667),\n",
       " ('algeria', 0.957870364189148),\n",
       " ('uruguay', 0.9558573365211487),\n",
       " ('ghana', 0.950215756893158),\n",
       " ('venezuela', 0.9469854235649109),\n",
       " ('northeastern', 0.9466391801834106),\n",
       " ('thailand', 0.9412941336631775),\n",
       " ('honduras', 0.9373484253883362),\n",
       " ('nigeria', 0.9350093007087708)]"
      ]
     },
     "execution_count": 46,
     "metadata": {},
     "output_type": "execute_result"
    }
   ],
   "source": [
    "w2v_model.most_similar(positive=['argentina'], negative=[], topn=10)"
   ]
  },
  {
   "cell_type": "code",
   "execution_count": 48,
   "metadata": {
    "collapsed": false
   },
   "outputs": [
    {
     "data": {
      "text/plain": [
       "0.97456248317940997"
      ]
     },
     "execution_count": 48,
     "metadata": {},
     "output_type": "execute_result"
    }
   ],
   "source": [
    "w2v_model.n_similarity([\"good\",\"bad\"], [\"bad\"])"
   ]
  },
  {
   "cell_type": "code",
   "execution_count": null,
   "metadata": {
    "collapsed": true
   },
   "outputs": [],
   "source": []
  }
 ],
 "metadata": {
  "kernelspec": {
   "display_name": "Python 3",
   "language": "python",
   "name": "python3"
  },
  "language_info": {
   "codemirror_mode": {
    "name": "ipython",
    "version": 3
   },
   "file_extension": ".py",
   "mimetype": "text/x-python",
   "name": "python",
   "nbconvert_exporter": "python",
   "pygments_lexer": "ipython3",
   "version": "3.5.2"
  }
 },
 "nbformat": 4,
 "nbformat_minor": 0
}
